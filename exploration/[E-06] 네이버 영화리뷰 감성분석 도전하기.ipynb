{
 "cells": [
  {
   "cell_type": "markdown",
   "id": "f4cda4b2",
   "metadata": {},
   "source": [
    " 데이터셋 : 네이버 영화의 댓글을 모아 구성된 Naver sentiment movie corpus입니다.\n",
    " \n",
    " # 1) 데이터 준비와 확인"
   ]
  },
  {
   "cell_type": "code",
   "execution_count": 1,
   "id": "11f3ba06",
   "metadata": {
    "scrolled": true
   },
   "outputs": [
    {
     "name": "stdout",
     "output_type": "stream",
     "text": [
      "ln: failed to create symbolic link '/aiffel/aiffel/sentiment_classification/data/ratings_test.txt': File exists\r\n",
      "ln: failed to create symbolic link '/aiffel/aiffel/sentiment_classification/data/ratings_train.txt': File exists\r\n"
     ]
    }
   ],
   "source": [
    "! ln -s ~/data/*.txt ~/aiffel/sentiment_classification/data"
   ]
  },
  {
   "cell_type": "code",
   "execution_count": 2,
   "id": "2e9842a5",
   "metadata": {},
   "outputs": [],
   "source": [
    "# import\n",
    "\n",
    "import numpy as np\n",
    "import os\n",
    "\n",
    "import tensorflow as tf\n",
    "from tensorflow import keras\n",
    "\n",
    "import matplotlib.pyplot as plt\n",
    "%matplotlib inline\n",
    "\n",
    "import gensim\n",
    "from gensim.models.keyedvectors import Word2VecKeyedVectors\n",
    "from tensorflow.keras.initializers import Constant\n"
   ]
  },
  {
   "cell_type": "code",
   "execution_count": 3,
   "id": "49d26c64",
   "metadata": {},
   "outputs": [
    {
     "data": {
      "text/html": [
       "<div>\n",
       "<style scoped>\n",
       "    .dataframe tbody tr th:only-of-type {\n",
       "        vertical-align: middle;\n",
       "    }\n",
       "\n",
       "    .dataframe tbody tr th {\n",
       "        vertical-align: top;\n",
       "    }\n",
       "\n",
       "    .dataframe thead th {\n",
       "        text-align: right;\n",
       "    }\n",
       "</style>\n",
       "<table border=\"1\" class=\"dataframe\">\n",
       "  <thead>\n",
       "    <tr style=\"text-align: right;\">\n",
       "      <th></th>\n",
       "      <th>id</th>\n",
       "      <th>document</th>\n",
       "      <th>label</th>\n",
       "    </tr>\n",
       "  </thead>\n",
       "  <tbody>\n",
       "    <tr>\n",
       "      <th>0</th>\n",
       "      <td>9976970</td>\n",
       "      <td>아 더빙.. 진짜 짜증나네요 목소리</td>\n",
       "      <td>0</td>\n",
       "    </tr>\n",
       "    <tr>\n",
       "      <th>1</th>\n",
       "      <td>3819312</td>\n",
       "      <td>흠...포스터보고 초딩영화줄....오버연기조차 가볍지 않구나</td>\n",
       "      <td>1</td>\n",
       "    </tr>\n",
       "    <tr>\n",
       "      <th>2</th>\n",
       "      <td>10265843</td>\n",
       "      <td>너무재밓었다그래서보는것을추천한다</td>\n",
       "      <td>0</td>\n",
       "    </tr>\n",
       "    <tr>\n",
       "      <th>3</th>\n",
       "      <td>9045019</td>\n",
       "      <td>교도소 이야기구먼 ..솔직히 재미는 없다..평점 조정</td>\n",
       "      <td>0</td>\n",
       "    </tr>\n",
       "    <tr>\n",
       "      <th>4</th>\n",
       "      <td>6483659</td>\n",
       "      <td>사이몬페그의 익살스런 연기가 돋보였던 영화!스파이더맨에서 늙어보이기만 했던 커스틴 ...</td>\n",
       "      <td>1</td>\n",
       "    </tr>\n",
       "  </tbody>\n",
       "</table>\n",
       "</div>"
      ],
      "text/plain": [
       "         id                                           document  label\n",
       "0   9976970                                아 더빙.. 진짜 짜증나네요 목소리      0\n",
       "1   3819312                  흠...포스터보고 초딩영화줄....오버연기조차 가볍지 않구나      1\n",
       "2  10265843                                  너무재밓었다그래서보는것을추천한다      0\n",
       "3   9045019                      교도소 이야기구먼 ..솔직히 재미는 없다..평점 조정      0\n",
       "4   6483659  사이몬페그의 익살스런 연기가 돋보였던 영화!스파이더맨에서 늙어보이기만 했던 커스틴 ...      1"
      ]
     },
     "execution_count": 3,
     "metadata": {},
     "output_type": "execute_result"
    }
   ],
   "source": [
    "import pandas as pd\n",
    "\n",
    "# 데이터를 읽어봅시다. \n",
    "train_data = pd.read_table('~/aiffel/sentiment_classification/data/ratings_train.txt')\n",
    "test_data = pd.read_table('~/aiffel/sentiment_classification/data/ratings_test.txt')\n",
    "\n",
    "train_data.head()"
   ]
  },
  {
   "cell_type": "markdown",
   "id": "025c4a09",
   "metadata": {},
   "source": [
    "#  2) 데이터로더 구성\n",
    "\n",
    "IMDB 데이터셋은 텍스트를 가공하여 imdb.data_loader() 메서드를 호출하면 숫자 인덱스로 변환된 텍스트와 word_to_index 딕셔너리까지 친절하게 제공\n",
    "\n",
    "nsmc 데이터셋은 전혀 가공되지 않은 텍스트 파일\n",
    "* data_loader 작성\n",
    "\n",
    "1. 데이터의 중복 제거\n",
    "2. NaN 결측치 제거\n",
    "3. 한국어 토크나이저로 토큰화\n",
    "4. 불용어(Stopwords) 제거\n",
    "5. 사전word_to_index 구성\n",
    "6. 텍스트 스트링을 사전 인덱스 스트링으로 변환\n",
    "7. X_train, y_train, X_test, y_test, word_to_index 리턴"
   ]
  },
  {
   "cell_type": "code",
   "execution_count": 15,
   "id": "e66609aa",
   "metadata": {},
   "outputs": [],
   "source": [
    "from konlpy.tag import Mecab\n",
    "import numpy as np\n",
    "from collections import Counter\n",
    "\n",
    "tokenizer = Mecab()\n",
    "stopwords = ['의','가','이','은','들','는','좀','잘','걍','과','도','를','으로','자','에','와','한','하다']\n",
    "\n",
    "def load_data(train_data, test_data, num_words=10000):\n",
    "    train_data.drop_duplicates(subset=['document'], inplace=True) #1 중복제거\n",
    "    train_data = train_data.dropna(how = 'any')                   #2 결측치 제거\n",
    "    test_data.drop_duplicates(subset=['document'], inplace=True)\n",
    "    test_data = test_data.dropna(how = 'any') \n",
    "    \n",
    "    X_train = []\n",
    "    for sentence in train_data['document']:\n",
    "        temp_X = tokenizer.morphs(sentence) #3 토큰화\n",
    "        temp_X = [word for word in temp_X if not word in stopwords] #4 불용어 제거\n",
    "        X_train.append(temp_X)\n",
    "\n",
    "    X_test = []\n",
    "    for sentence in test_data['document']:\n",
    "        temp_X = tokenizer.morphs(sentence) # 토큰화\n",
    "        temp_X = [word for word in temp_X if not word in stopwords] # 불용어 제거\n",
    "        X_test.append(temp_X)\n",
    "    \n",
    "    words = np.concatenate(X_train).tolist() #5 사전 word_to_index 구성\n",
    "    counter = Counter(words)\n",
    "    counter = counter.most_common(10000-4)\n",
    "    vocab = ['', '', '', ''] + [key for key, _ in counter]  # 앞에 <PAD> <BOS> <UNK> 추가 할수 있도록\n",
    "    word_to_index = {word:index for index, word in enumerate(vocab)}\n",
    "        \n",
    "    def wordlist_to_indexlist(wordlist): #6 텍스트 스트링을 인덱스 스트링 변환 i eat lunch - > [1, 3, 5, 7]\n",
    "        return [word_to_index[word] if word in word_to_index else word_to_index[''] for word in wordlist]\n",
    "        \n",
    "    X_train = list(map(wordlist_to_indexlist, X_train))\n",
    "    X_test = list(map(wordlist_to_indexlist, X_test))\n",
    "        \n",
    "    return X_train, np.array(list(train_data['label'])), X_test, np.array(list(test_data['label'])), word_to_index #7 리턴값\n",
    "     \n",
    "x_train, y_train, X_test, y_test, word_to_index = load_data(train_data, test_data) "
   ]
  },
  {
   "cell_type": "code",
   "execution_count": 5,
   "id": "1f6426e0",
   "metadata": {},
   "outputs": [],
   "source": [
    "# <PAD>, <BOS>, <UNK> 추가\n",
    "word_to_index[\"<PAD>\"] = 0  # 패딩\n",
    "word_to_index[\"<BOS>\"] = 1  # 모든 문장의 시작\n",
    "word_to_index[\"<UNK>\"] = 2  # Unknown을 의미"
   ]
  },
  {
   "cell_type": "code",
   "execution_count": 6,
   "id": "a54333a7",
   "metadata": {},
   "outputs": [],
   "source": [
    "# 인덱스 -> word 변환\n",
    "index_to_word = {index:word for word, index in word_to_index.items()}"
   ]
  },
  {
   "cell_type": "code",
   "execution_count": 7,
   "id": "a7ee39ab",
   "metadata": {},
   "outputs": [],
   "source": [
    "# 문장 1개를 활용할 딕셔너리와 함께 주면, 단어 인덱스 리스트 벡터로 변환해 주는 함수입니다. \n",
    "# 단, 모든 문장은 <BOS>로 시작하는 것으로 합니다. \n",
    "def get_encoded_sentence(sentence, word_to_index):\n",
    "    return [word_to_index['<BOS>']]+[word_to_index[word] if word in word_to_index else word_to_index['<UNK>'] for word in sentence.split()]\n",
    "\n",
    "# 여러 개의 문장 리스트를 한꺼번에 단어 인덱스 리스트 벡터로 encode해 주는 함수입니다. \n",
    "def get_encoded_sentences(sentences, word_to_index):\n",
    "    return [get_encoded_sentence(sentence, word_to_index) for sentence in sentences]\n",
    "\n",
    "# 숫자 벡터로 encode된 문장을 원래대로 decode하는 함수입니다. \n",
    "def get_decoded_sentence(encoded_sentence, index_to_word):\n",
    "    return ' '.join(index_to_word[index] if index in index_to_word else '<UNK>' for index in encoded_sentence[1:])  #[1:]를 통해 <BOS>를 제외\n",
    "\n",
    "# 여러 개의 숫자 벡터로 encode된 문장을 한꺼번에 원래대로 decode하는 함수입니다. \n",
    "def get_decoded_sentences(encoded_sentences, index_to_word):\n",
    "    return [get_decoded_sentence(encoded_sentence, index_to_word) for encoded_sentence in encoded_sentences]"
   ]
  },
  {
   "cell_type": "markdown",
   "id": "fdd1f42e",
   "metadata": {},
   "source": [
    "# 3) 모델 구성을 위한 데이터 분석 및 가공\n",
    "\n",
    "* 데이터셋 내 문장 길이 분포\n",
    "* 적절한 최대 문장 길이 지정\n",
    "* keras.preprocessing.sequence.pad_sequences 을 활용한 패딩 추가"
   ]
  },
  {
   "cell_type": "code",
   "execution_count": 8,
   "id": "30de506d",
   "metadata": {},
   "outputs": [
    {
     "name": "stdout",
     "output_type": "stream",
     "text": [
      "문장길이 평균 :  15.96940191154864\n",
      "문장길이 최대 :  116\n",
      "문장길이 표준편차 :  12.843571191092\n",
      "pad_sequences maxlen :  41\n",
      "전체 문장의 0.9342988343341575%가 maxlen 설정값 이내에 포함됩니다. \n"
     ]
    }
   ],
   "source": [
    "#  데이터셋 내 문장 길이 분포\n",
    "# 적절한 최대 문장 길이 지정\n",
    "\n",
    "# pad_sequences를 통해 데이터셋 상의 문장의 길이를 통일\n",
    "\n",
    "total_data_text = list(x_train) + list(X_test)\n",
    "# 텍스트데이터 문장길이의 리스트를 생성한 후\n",
    "num_tokens = [len(tokens) for tokens in total_data_text]\n",
    "num_tokens = np.array(num_tokens)\n",
    "# 문장길이의 평균값, 최대값, 표준편차를 계산해 본다. \n",
    "print('문장길이 평균 : ', np.mean(num_tokens))\n",
    "print('문장길이 최대 : ', np.max(num_tokens))\n",
    "print('문장길이 표준편차 : ', np.std(num_tokens))\n",
    "\n",
    "# 예를들어, 최대 길이를 (평균 + 2*표준편차)로 한다면,  \n",
    "max_tokens = np.mean(num_tokens) + 2 * np.std(num_tokens)\n",
    "maxlen = int(max_tokens)\n",
    "print('pad_sequences maxlen : ', maxlen)\n",
    "print('전체 문장의 {}%가 maxlen 설정값 이내에 포함됩니다. '.format(np.sum(num_tokens < max_tokens) / len(num_tokens)))"
   ]
  },
  {
   "cell_type": "code",
   "execution_count": 9,
   "id": "e2c43b26",
   "metadata": {},
   "outputs": [
    {
     "name": "stdout",
     "output_type": "stream",
     "text": [
      "(146182, 41)\n",
      "(49157, 41)\n"
     ]
    }
   ],
   "source": [
    "# keras.preprocessing.sequence.pad_sequences 을 활용한 패딩 추가\n",
    "\n",
    "x_train = tf.keras.preprocessing.sequence.pad_sequences(x_train,\n",
    "                                                        value=word_to_index[\"<PAD>\"],\n",
    "                                                        padding='post', # 혹은 'pre'\n",
    "                                                        maxlen=maxlen)\n",
    "\n",
    "x_test = tf.keras.preprocessing.sequence.pad_sequences(X_test,\n",
    "                                                       value=word_to_index[\"<PAD>\"],\n",
    "                                                       padding='post', # 혹은 'pre'\n",
    "                                                       maxlen=maxlen)\n",
    "\n",
    "print(x_train.shape)\n",
    "print(x_test.shape)"
   ]
  },
  {
   "cell_type": "markdown",
   "id": "4fde5843",
   "metadata": {},
   "source": [
    "# 4) 모델 구성 및 validation set 구성\n"
   ]
  },
  {
   "cell_type": "code",
   "execution_count": 10,
   "id": "35ef61e3",
   "metadata": {},
   "outputs": [
    {
     "name": "stdout",
     "output_type": "stream",
     "text": [
      "(136182, 41)\n",
      "(136182,)\n"
     ]
    }
   ],
   "source": [
    "# 훈련용 데이터셋 25000건 중 10000건을 분리하여 검증셋(validation set)으로 사용하도록 합니다. 적절한 validation 데이터는 몇 개가 좋을지 고민\n",
    "\n",
    "# validation set 10000건 분리\n",
    "x_val = x_train[:10000]   \n",
    "y_val = y_train[:10000]\n",
    "\n",
    "# validation set을 제외한 나머지 15000건\n",
    "partial_x_train = x_train[10000:]  \n",
    "partial_y_train = y_train[10000:]\n",
    "\n",
    "print(partial_x_train.shape)\n",
    "print(partial_y_train.shape)"
   ]
  },
  {
   "cell_type": "markdown",
   "id": "3d031fb4",
   "metadata": {},
   "source": [
    "# 5) 모델 훈련 개시\n",
    "# 6) Loss, Accuracy 그래프 시각화"
   ]
  },
  {
   "cell_type": "code",
   "execution_count": 11,
   "id": "8c92ca54",
   "metadata": {},
   "outputs": [],
   "source": [
    "# 어 사전의 크기를 지정해주고 한 단어를 표현하는 임베딩 벡터의 차원의 개수 설정\n",
    "\n",
    "vocab_size = 10000  # 단어 사전의 크기를 지정\n",
    "word_vector_dim = 4   # 한 단어를 표현하는 임베딩 벡터의 차원의 개수"
   ]
  },
  {
   "cell_type": "markdown",
   "id": "ed4e7f47",
   "metadata": {},
   "source": [
    "# 5-1 1-D CNN"
   ]
  },
  {
   "cell_type": "code",
   "execution_count": 12,
   "id": "30e7b3bf",
   "metadata": {
    "scrolled": true
   },
   "outputs": [
    {
     "name": "stdout",
     "output_type": "stream",
     "text": [
      "Model: \"sequential\"\n",
      "_________________________________________________________________\n",
      "Layer (type)                 Output Shape              Param #   \n",
      "=================================================================\n",
      "embedding (Embedding)        (None, None, 4)           40000     \n",
      "_________________________________________________________________\n",
      "conv1d (Conv1D)              (None, None, 32)          416       \n",
      "_________________________________________________________________\n",
      "max_pooling1d (MaxPooling1D) (None, None, 32)          0         \n",
      "_________________________________________________________________\n",
      "conv1d_1 (Conv1D)            (None, None, 16)          1552      \n",
      "_________________________________________________________________\n",
      "global_max_pooling1d (Global (None, 16)                0         \n",
      "_________________________________________________________________\n",
      "dense (Dense)                (None, 8)                 136       \n",
      "_________________________________________________________________\n",
      "dense_1 (Dense)              (None, 1)                 9         \n",
      "=================================================================\n",
      "Total params: 42,113\n",
      "Trainable params: 42,113\n",
      "Non-trainable params: 0\n",
      "_________________________________________________________________\n"
     ]
    }
   ],
   "source": [
    "# 1-D CNN 모델 구성\n",
    "\n",
    "model = keras.Sequential()\n",
    "model.add(keras.layers.Embedding(vocab_size, word_vector_dim, input_shape=(None,)))\n",
    "model.add(keras.layers.Conv1D(32, 3, activation='relu'))\n",
    "model.add(keras.layers.MaxPooling1D(5))\n",
    "model.add(keras.layers.Conv1D(16, 3, activation='relu'))\n",
    "model.add(keras.layers.GlobalMaxPooling1D())\n",
    "model.add(keras.layers.Dense(8, activation='relu'))\n",
    "model.add(keras.layers.Dense(1, activation='sigmoid'))  # 최종 출력은 긍정/부정을 나타내는 1dim\n",
    "\n",
    "model.summary()"
   ]
  },
  {
   "cell_type": "code",
   "execution_count": 13,
   "id": "72d2d856",
   "metadata": {},
   "outputs": [
    {
     "name": "stdout",
     "output_type": "stream",
     "text": [
      "Epoch 1/5\n",
      "2128/2128 [==============================] - 38s 4ms/step - loss: 0.4275 - accuracy: 0.7954 - val_loss: 0.3424 - val_accuracy: 0.8511\n",
      "Epoch 2/5\n",
      "2128/2128 [==============================] - 9s 4ms/step - loss: 0.3194 - accuracy: 0.8628 - val_loss: 0.3362 - val_accuracy: 0.8543\n",
      "Epoch 3/5\n",
      "2128/2128 [==============================] - 9s 4ms/step - loss: 0.2924 - accuracy: 0.8774 - val_loss: 0.3387 - val_accuracy: 0.8511\n",
      "Epoch 4/5\n",
      "2128/2128 [==============================] - 9s 4ms/step - loss: 0.2741 - accuracy: 0.8860 - val_loss: 0.3460 - val_accuracy: 0.8496\n",
      "Epoch 5/5\n",
      "2128/2128 [==============================] - 9s 4ms/step - loss: 0.2608 - accuracy: 0.8923 - val_loss: 0.3526 - val_accuracy: 0.8492\n"
     ]
    }
   ],
   "source": [
    "# 1-D CNN 모델 학습\n",
    "\n",
    "model.compile(optimizer='adam',\n",
    "             loss='binary_crossentropy',\n",
    "             metrics=['accuracy'])\n",
    "            \n",
    "epochs=5\n",
    "\n",
    "history = model.fit(partial_x_train,\n",
    "                   partial_y_train,\n",
    "                   epochs=epochs,\n",
    "                   batch_size=64,\n",
    "                   validation_data=(x_val, y_val),\n",
    "                   verbose=1)"
   ]
  },
  {
   "cell_type": "code",
   "execution_count": 17,
   "id": "ecb3d4c7",
   "metadata": {},
   "outputs": [
    {
     "name": "stdout",
     "output_type": "stream",
     "text": [
      "1537/1537 - 2s - loss: 0.3630 - accuracy: 0.8470\n",
      "[0.3629881739616394, 0.8469597697257996]\n"
     ]
    }
   ],
   "source": [
    "# 1-D CNN 모델 평가\n",
    "\n",
    "results = model.evaluate(x_test, y_test, verbose=2)\n",
    "\n",
    "print(results)"
   ]
  },
  {
   "cell_type": "code",
   "execution_count": 18,
   "id": "36d77499",
   "metadata": {
    "scrolled": true
   },
   "outputs": [
    {
     "data": {
      "image/png": "[encoded data removed]",
      "text/plain": [
       "<Figure size 576x288 with 2 Axes>"
      ]
     },
     "metadata": {
      "needs_background": "light"
     },
     "output_type": "display_data"
    }
   ],
   "source": [
    "# Accuracy, Loss 그래프 시각화\n",
    "\n",
    "history_dict = history.history\n",
    "acc = history_dict['accuracy']\n",
    "val_acc = history_dict['val_accuracy']\n",
    "loss = history_dict['loss']\n",
    "val_loss = history_dict['val_loss']\n",
    "\n",
    "epochs = range(1, len(acc) + 1)\n",
    "\n",
    "# Accuracy 그래프\n",
    "plt.figure(figsize=(8, 4))\n",
    "plt.subplot(1, 2, 1)\n",
    "plt.plot(epochs, acc, label='Training Accuracy')\n",
    "plt.plot(epochs, val_acc, label='Validation Accuracy')\n",
    "plt.legend(loc='lower right')\n",
    "plt.title('Training and Validation Accuracy')\n",
    "\n",
    "# Loss 그래프\n",
    "plt.subplot(1, 2, 2)\n",
    "plt.plot(epochs, loss, label='Training Loss')\n",
    "plt.plot(epochs, val_loss, label='Validation Loss')\n",
    "plt.legend(loc='upper right')\n",
    "plt.title('Training and Validation Loss')\n",
    "plt.show()"
   ]
  },
  {
   "cell_type": "markdown",
   "id": "b24e9f5d",
   "metadata": {},
   "source": [
    "# 5-2 GlobalMaxPooling1D "
   ]
  },
  {
   "cell_type": "code",
   "execution_count": 20,
   "id": "937d74ff",
   "metadata": {},
   "outputs": [
    {
     "name": "stdout",
     "output_type": "stream",
     "text": [
      "Model: \"sequential_1\"\n",
      "_________________________________________________________________\n",
      "Layer (type)                 Output Shape              Param #   \n",
      "=================================================================\n",
      "embedding_1 (Embedding)      (None, None, 4)           40000     \n",
      "_________________________________________________________________\n",
      "global_max_pooling1d_1 (Glob (None, 4)                 0         \n",
      "_________________________________________________________________\n",
      "dense_2 (Dense)              (None, 8)                 40        \n",
      "_________________________________________________________________\n",
      "dense_3 (Dense)              (None, 1)                 9         \n",
      "=================================================================\n",
      "Total params: 40,049\n",
      "Trainable params: 40,049\n",
      "Non-trainable params: 0\n",
      "_________________________________________________________________\n"
     ]
    }
   ],
   "source": [
    "# GlobalMaxPooling1D 모델 구성\n",
    "\n",
    "model = keras.Sequential()\n",
    "model.add(keras.layers.Embedding(vocab_size, word_vector_dim, input_shape=(None,)))\n",
    "model.add(keras.layers.GlobalMaxPooling1D())\n",
    "model.add(keras.layers.Dense(8, activation='relu'))\n",
    "model.add(keras.layers.Dense(1, activation='sigmoid'))  # 최종 출력은 긍정/부정을 나타내는 1dim\n",
    "\n",
    "model.summary()"
   ]
  },
  {
   "cell_type": "code",
   "execution_count": 21,
   "id": "f8c375a2",
   "metadata": {},
   "outputs": [
    {
     "name": "stdout",
     "output_type": "stream",
     "text": [
      "Epoch 1/5\n",
      "2128/2128 [==============================] - 7s 3ms/step - loss: 0.5500 - accuracy: 0.7256 - val_loss: 0.4943 - val_accuracy: 0.7631\n",
      "Epoch 2/5\n",
      "2128/2128 [==============================] - 6s 3ms/step - loss: 0.4795 - accuracy: 0.7726 - val_loss: 0.4870 - val_accuracy: 0.7685\n",
      "Epoch 3/5\n",
      "2128/2128 [==============================] - 6s 3ms/step - loss: 0.4647 - accuracy: 0.7820 - val_loss: 0.4874 - val_accuracy: 0.7680\n",
      "Epoch 4/5\n",
      "2128/2128 [==============================] - 6s 3ms/step - loss: 0.4568 - accuracy: 0.7855 - val_loss: 0.4868 - val_accuracy: 0.7697\n",
      "Epoch 5/5\n",
      "2128/2128 [==============================] - 6s 3ms/step - loss: 0.4512 - accuracy: 0.7887 - val_loss: 0.4893 - val_accuracy: 0.7688\n"
     ]
    }
   ],
   "source": [
    "# GlobalMaxPooling1D 모델 학습\n",
    "\n",
    "model.compile(optimizer='adam',\n",
    "             loss='binary_crossentropy',\n",
    "             metrics=['accuracy'])\n",
    "            \n",
    "epochs=5\n",
    "\n",
    "history = model.fit(partial_x_train,\n",
    "                   partial_y_train,\n",
    "                   epochs=epochs,\n",
    "                   batch_size=64,\n",
    "                   validation_data=(x_val, y_val),\n",
    "                   verbose=1)"
   ]
  },
  {
   "cell_type": "code",
   "execution_count": 22,
   "id": "6bce57a4",
   "metadata": {},
   "outputs": [
    {
     "name": "stdout",
     "output_type": "stream",
     "text": [
      "1537/1537 - 2s - loss: 0.4926 - accuracy: 0.7658\n",
      "[0.49255678057670593, 0.7657912373542786]\n"
     ]
    }
   ],
   "source": [
    "# GlobalMaxPooling1D 모델 평가\n",
    "\n",
    "results = model.evaluate(x_test, y_test, verbose=2)\n",
    "\n",
    "print(results)"
   ]
  },
  {
   "cell_type": "code",
   "execution_count": 23,
   "id": "8e14c9d1",
   "metadata": {},
   "outputs": [
    {
     "data": {
      "image/png": "[encoded data removed]",
      "text/plain": [
       "<Figure size 576x288 with 2 Axes>"
      ]
     },
     "metadata": {
      "needs_background": "light"
     },
     "output_type": "display_data"
    }
   ],
   "source": [
    "# Accuracy, Loss 그래프 시각화\n",
    "\n",
    "history_dict = history.history\n",
    "acc = history_dict['accuracy']\n",
    "val_acc = history_dict['val_accuracy']\n",
    "loss = history_dict['loss']\n",
    "val_loss = history_dict['val_loss']\n",
    "\n",
    "epochs = range(1, len(acc) + 1)\n",
    "\n",
    "# Accuracy 그래프\n",
    "plt.figure(figsize=(8, 4))\n",
    "plt.subplot(1, 2, 1)\n",
    "plt.plot(epochs, acc, label='Training Accuracy')\n",
    "plt.plot(epochs, val_acc, label='Validation Accuracy')\n",
    "plt.legend(loc='lower right')\n",
    "plt.title('Training and Validation Accuracy')\n",
    "\n",
    "# Loss 그래프\n",
    "plt.subplot(1, 2, 2)\n",
    "plt.plot(epochs, loss, label='Training Loss')\n",
    "plt.plot(epochs, val_loss, label='Validation Loss')\n",
    "plt.legend(loc='upper right')\n",
    "plt.title('Training and Validation Loss')\n",
    "plt.show()"
   ]
  },
  {
   "cell_type": "markdown",
   "id": "a7a8f88a",
   "metadata": {},
   "source": [
    "# 5-3 LSTM레이어"
   ]
  },
  {
   "cell_type": "code",
   "execution_count": 24,
   "id": "b3644578",
   "metadata": {},
   "outputs": [
    {
     "name": "stdout",
     "output_type": "stream",
     "text": [
      "Model: \"sequential_2\"\n",
      "_________________________________________________________________\n",
      "Layer (type)                 Output Shape              Param #   \n",
      "=================================================================\n",
      "embedding_2 (Embedding)      (None, None, 4)           40000     \n",
      "_________________________________________________________________\n",
      "lstm (LSTM)                  (None, 8)                 416       \n",
      "_________________________________________________________________\n",
      "dense_4 (Dense)              (None, 8)                 72        \n",
      "_________________________________________________________________\n",
      "dense_5 (Dense)              (None, 1)                 9         \n",
      "=================================================================\n",
      "Total params: 40,497\n",
      "Trainable params: 40,497\n",
      "Non-trainable params: 0\n",
      "_________________________________________________________________\n"
     ]
    }
   ],
   "source": [
    "# LSTM 레이어 모델 구성\n",
    "model = keras.Sequential()\n",
    "model.add(keras.layers.Embedding(vocab_size, word_vector_dim, input_shape=(None,)))\n",
    "model.add(keras.layers.LSTM(8))  #LSTM state 벡터의 차원수\n",
    "model.add(keras.layers.Dense(8, activation='relu'))\n",
    "model.add(keras.layers.Dense(1, activation='sigmoid'))  #최종 출력은 긍정/부정을 나타내는 1dim\n",
    "\n",
    "model.summary()"
   ]
  },
  {
   "cell_type": "code",
   "execution_count": 25,
   "id": "aa170ed9",
   "metadata": {},
   "outputs": [
    {
     "name": "stdout",
     "output_type": "stream",
     "text": [
      "Epoch 1/5\n",
      "2128/2128 [==============================] - 16s 5ms/step - loss: 0.4262 - accuracy: 0.7888 - val_loss: 0.3595 - val_accuracy: 0.8421\n",
      "Epoch 2/5\n",
      "2128/2128 [==============================] - 10s 5ms/step - loss: 0.3336 - accuracy: 0.8570 - val_loss: 0.3387 - val_accuracy: 0.8508\n",
      "Epoch 3/5\n",
      "2128/2128 [==============================] - 10s 5ms/step - loss: 0.3144 - accuracy: 0.8660 - val_loss: 0.3390 - val_accuracy: 0.8535\n",
      "Epoch 4/5\n",
      "2128/2128 [==============================] - 10s 5ms/step - loss: 0.2998 - accuracy: 0.8725 - val_loss: 0.3397 - val_accuracy: 0.8510\n",
      "Epoch 5/5\n",
      "2128/2128 [==============================] - 10s 5ms/step - loss: 0.2858 - accuracy: 0.8777 - val_loss: 0.3346 - val_accuracy: 0.8565\n"
     ]
    }
   ],
   "source": [
    "# LSTM 레이어 모델 학습\n",
    "\n",
    "model.compile(optimizer='adam',\n",
    "             loss='binary_crossentropy',\n",
    "             metrics=['accuracy'])\n",
    "            \n",
    "epochs=5\n",
    "\n",
    "history = model.fit(partial_x_train,\n",
    "                   partial_y_train,\n",
    "                   epochs=epochs,\n",
    "                   batch_size=64,\n",
    "                   validation_data=(x_val, y_val),\n",
    "                   verbose=1)"
   ]
  },
  {
   "cell_type": "code",
   "execution_count": 26,
   "id": "e44c830f",
   "metadata": {},
   "outputs": [
    {
     "name": "stdout",
     "output_type": "stream",
     "text": [
      "1537/1537 - 3s - loss: 0.3432 - accuracy: 0.8504\n",
      "[0.3432089686393738, 0.8504384160041809]\n"
     ]
    }
   ],
   "source": [
    "# LSTM 모델 평가\n",
    "\n",
    "results = model.evaluate(x_test, y_test, verbose=2)\n",
    "\n",
    "print(results)"
   ]
  },
  {
   "cell_type": "code",
   "execution_count": 27,
   "id": "265a4a19",
   "metadata": {},
   "outputs": [
    {
     "data": {
      "image/png": "[encoded data removed]",
      "text/plain": [
       "<Figure size 576x288 with 2 Axes>"
      ]
     },
     "metadata": {
      "needs_background": "light"
     },
     "output_type": "display_data"
    }
   ],
   "source": [
    "# Accuracy, Loss 그래프 시각화\n",
    "\n",
    "history_dict = history.history\n",
    "acc = history_dict['accuracy']\n",
    "val_acc = history_dict['val_accuracy']\n",
    "loss = history_dict['loss']\n",
    "val_loss = history_dict['val_loss']\n",
    "\n",
    "epochs = range(1, len(acc) + 1)\n",
    "\n",
    "# Accuracy 그래프\n",
    "plt.figure(figsize=(8, 4))\n",
    "plt.subplot(1, 2, 1)\n",
    "plt.plot(epochs, acc, label='Training Accuracy')\n",
    "plt.plot(epochs, val_acc, label='Validation Accuracy')\n",
    "plt.legend(loc='lower right')\n",
    "plt.title('Training and Validation Accuracy')\n",
    "\n",
    "# Loss 그래프\n",
    "plt.subplot(1, 2, 2)\n",
    "plt.plot(epochs, loss, label='Training Loss')\n",
    "plt.plot(epochs, val_loss, label='Validation Loss')\n",
    "plt.legend(loc='upper right')\n",
    "plt.title('Training and Validation Loss')\n",
    "plt.show()"
   ]
  },
  {
   "cell_type": "code",
   "execution_count": null,
   "id": "ff49d7fb",
   "metadata": {},
   "outputs": [],
   "source": []
  },
  {
   "cell_type": "markdown",
   "id": "7ddb39c9",
   "metadata": {},
   "source": [
    "# 7) 학습된 Embedding 레이어 분석"
   ]
  },
  {
   "cell_type": "code",
   "execution_count": 28,
   "id": "2b7af7be",
   "metadata": {},
   "outputs": [
    {
     "name": "stdout",
     "output_type": "stream",
     "text": [
      "(10000, 4)\n"
     ]
    }
   ],
   "source": [
    "# 임베딩 레이어 차원 확인\n",
    "embedding_layer = model.layers[0]\n",
    "weights = embedding_layer.get_weights()[0]\n",
    "print(weights.shape)    # 출력 형태 : (vocab_size, embedding_dim)"
   ]
  },
  {
   "cell_type": "code",
   "execution_count": 29,
   "id": "22bb8ed2",
   "metadata": {},
   "outputs": [],
   "source": [
    "# 학습한 Embedding 파라미터를 파일에 써서 저장\n",
    "word2vec_file_path = os.getenv('HOME')+'/aiffel/sentiment_classification/data/word2vec.txt'\n",
    "f = open(word2vec_file_path, 'w')\n",
    "f.write('{} {}\\n'.format(vocab_size-4, word_vector_dim))  # 몇개의 벡터를 얼마 사이즈로 기재할지 타이틀을 기록\n",
    "\n",
    "# 단어 개수(에서 특수문자 4개는 제외하고)만큼의 워드 벡터를 파일에 기록\n",
    "vectors = model.get_weights()[0]\n",
    "for i in range(4,vocab_size):\n",
    "    f.write('{} {}\\n'.format(index_to_word[i], ' '.join(map(str, list(vectors[i, :])))))\n",
    "f.close()"
   ]
  },
  {
   "cell_type": "code",
   "execution_count": 30,
   "id": "fc5a0549",
   "metadata": {},
   "outputs": [
    {
     "data": {
      "text/plain": [
       "[('007', 0.9966304302215576),\n",
       " ('드럼', 0.9949657917022705),\n",
       " ('생겼', 0.9923415184020996),\n",
       " ('진구', 0.9922713041305542),\n",
       " ('역설', 0.9896327257156372),\n",
       " ('제주도', 0.9894028902053833),\n",
       " ('지켜라', 0.9872114658355713),\n",
       " ('대표', 0.9865875244140625),\n",
       " ('이민정', 0.9862703680992126),\n",
       " ('ost', 0.9860069155693054)]"
      ]
     },
     "execution_count": 30,
     "metadata": {},
     "output_type": "execute_result"
    }
   ],
   "source": [
    "# 파일에 기록된 임베딩 파라미터를 읽어서 word vector로 활용\n",
    "word_vectors = Word2VecKeyedVectors.load_word2vec_format(word2vec_file_path, binary=False)\n",
    "\n",
    "# 유사한 단어와 그 유사도 확인\n",
    "word_vectors.similar_by_word(\"사랑\")"
   ]
  },
  {
   "cell_type": "markdown",
   "id": "fbee2557",
   "metadata": {},
   "source": [
    "# 8) 한국어 Word2Vec 임베딩 활용하여 성능 개선"
   ]
  },
  {
   "cell_type": "code",
   "execution_count": 31,
   "id": "ca5945c2",
   "metadata": {},
   "outputs": [],
   "source": [
    "# ! pip install --upgrade gensim==3.8.3"
   ]
  },
  {
   "cell_type": "code",
   "execution_count": 32,
   "id": "e7d5c7c2",
   "metadata": {},
   "outputs": [
    {
     "data": {
      "text/plain": [
       "'3.8.3'"
      ]
     },
     "execution_count": 32,
     "metadata": {},
     "output_type": "execute_result"
    }
   ],
   "source": [
    "# gensim 패키지 버전 알아보기\n",
    "\n",
    "import gensim\n",
    "gensim.__version__"
   ]
  },
  {
   "cell_type": "code",
   "execution_count": 33,
   "id": "0d5156d9",
   "metadata": {},
   "outputs": [],
   "source": [
    "# ko_model = 한국어 Word2Vec\n",
    "\n",
    "word2vec_path = os.getenv('HOME')+'/aiffel/sentiment_classification/data/ko.bin'\n",
    "ko_model = gensim.models.Word2Vec.load(word2vec_path)"
   ]
  },
  {
   "cell_type": "code",
   "execution_count": 34,
   "id": "8d11637a",
   "metadata": {
    "scrolled": true
   },
   "outputs": [
    {
     "data": {
      "text/plain": [
       "[('슬픔', 0.7216662764549255),\n",
       " ('행복', 0.6759077310562134),\n",
       " ('절망', 0.6468985080718994),\n",
       " ('기쁨', 0.6458414196968079),\n",
       " ('이별', 0.6334798336029053),\n",
       " ('추억', 0.6320937275886536),\n",
       " ('인생', 0.6216273307800293),\n",
       " ('애정', 0.6206069588661194),\n",
       " ('연인', 0.6186063289642334),\n",
       " ('유혹', 0.5965287685394287)]"
      ]
     },
     "execution_count": 34,
     "metadata": {},
     "output_type": "execute_result"
    }
   ],
   "source": [
    "from gensim.models import KeyedVectors\n",
    "\n",
    "# 유사한 단어와 그 유사도 확인\n",
    "ko_model.wv.most_similar(\"사랑\")"
   ]
  },
  {
   "cell_type": "code",
   "execution_count": 38,
   "id": "ad40934d",
   "metadata": {},
   "outputs": [
    {
     "name": "stderr",
     "output_type": "stream",
     "text": [
      "/tmp/ipykernel_1352/4192617215.py:1: DeprecationWarning: Call to deprecated `__getitem__` (Method will be removed in 4.0.0, use self.wv.__getitem__() instead).\n",
      "  ko_model['사랑'].shape\n"
     ]
    },
    {
     "data": {
      "text/plain": [
       "(200,)"
      ]
     },
     "execution_count": 38,
     "metadata": {},
     "output_type": "execute_result"
    }
   ],
   "source": [
    "ko_model['사랑'].shape"
   ]
  },
  {
   "cell_type": "code",
   "execution_count": 39,
   "id": "0d433213",
   "metadata": {},
   "outputs": [
    {
     "name": "stderr",
     "output_type": "stream",
     "text": [
      "/tmp/ipykernel_1352/1360978910.py:9: DeprecationWarning: Call to deprecated `__contains__` (Method will be removed in 4.0.0, use self.wv.__contains__() instead).\n",
      "  if index_to_word[i] in ko_model:\n",
      "/tmp/ipykernel_1352/1360978910.py:10: DeprecationWarning: Call to deprecated `__getitem__` (Method will be removed in 4.0.0, use self.wv.__getitem__() instead).\n",
      "  embedding_matrix[i] = ko_model[index_to_word[i]]\n"
     ]
    }
   ],
   "source": [
    "# 이전 학습했던 모델의 임베딩 레이어를 ko_model 것으로 교체하여 다시 학습\n",
    "\n",
    "vocab_size = 10000    # 어휘 사전의 크기입니다(10,000개의 단어)\n",
    "word_vector_dim = 200  # 워드 벡터의 차원수\n",
    "embedding_matrix = np.random.rand(vocab_size, word_vector_dim)\n",
    "\n",
    "# embedding_matrix에 ko_model 워드 벡터를 단어 하나씩마다 차례차례 카피한다.\n",
    "for i in range(4,vocab_size):\n",
    "    if index_to_word[i] in ko_model:\n",
    "        embedding_matrix[i] = ko_model[index_to_word[i]]"
   ]
  },
  {
   "cell_type": "markdown",
   "id": "ad82bae0",
   "metadata": {},
   "source": [
    "# 1. 1-D CNN"
   ]
  },
  {
   "cell_type": "code",
   "execution_count": 40,
   "id": "f7e33845",
   "metadata": {},
   "outputs": [
    {
     "name": "stdout",
     "output_type": "stream",
     "text": [
      "Epoch 1/5\n",
      "1064/1064 [==============================] - 7s 5ms/step - loss: 0.5410 - accuracy: 0.7370 - val_loss: 0.4327 - val_accuracy: 0.8263\n",
      "Epoch 2/5\n",
      "1064/1064 [==============================] - 5s 5ms/step - loss: 0.3850 - accuracy: 0.8476 - val_loss: 0.3748 - val_accuracy: 0.8474\n",
      "Epoch 3/5\n",
      "1064/1064 [==============================] - 5s 5ms/step - loss: 0.3267 - accuracy: 0.8711 - val_loss: 0.3551 - val_accuracy: 0.8496\n",
      "Epoch 4/5\n",
      "1064/1064 [==============================] - 5s 5ms/step - loss: 0.2921 - accuracy: 0.8864 - val_loss: 0.3483 - val_accuracy: 0.8546\n",
      "Epoch 5/5\n",
      "1064/1064 [==============================] - 5s 5ms/step - loss: 0.2641 - accuracy: 0.8994 - val_loss: 0.3468 - val_accuracy: 0.8557\n"
     ]
    }
   ],
   "source": [
    "model_cnn = keras.Sequential()\n",
    "\n",
    "model_cnn.add(keras.layers.Embedding(vocab_size, word_vector_dim, embeddings_initializer=Constant(embedding_matrix),\n",
    "                                 input_length=maxlen, trainable=True))\n",
    "model_cnn.add(keras.layers.Conv1D(32, 3, activation='relu'))\n",
    "model_cnn.add(keras.layers.MaxPooling1D(5))\n",
    "model_cnn.add(keras.layers.Conv1D(16, 3, activation='relu'))\n",
    "model_cnn.add(keras.layers.GlobalMaxPooling1D())\n",
    "model_cnn.add(keras.layers.Dense(8, activation='relu'))\n",
    "model_cnn.add(keras.layers.Dense(1, activation='sigmoid'))  # 최종 출력은 긍정/부정을 나타내는 1dim 입니다.\n",
    "\n",
    "model_cnn.compile(optimizer='Adam', loss='binary_crossentropy', metrics=['accuracy'])\n",
    "epochs_cnn=5\n",
    "history_cnn = model_cnn.fit(partial_x_train,\n",
    "                    partial_y_train,\n",
    "                    epochs=epochs_cnn,\n",
    "                    batch_size=128,\n",
    "                    validation_data=(x_val, y_val),\n",
    "                    verbose=1)"
   ]
  },
  {
   "cell_type": "code",
   "execution_count": 43,
   "id": "54682b5e",
   "metadata": {},
   "outputs": [
    {
     "name": "stdout",
     "output_type": "stream",
     "text": [
      "1537/1537 - 3s - loss: 0.3599 - accuracy: 0.8518\n",
      "[0.3599204421043396, 0.8517810106277466]\n"
     ]
    }
   ],
   "source": [
    "results = model_cnn.evaluate(x_test, y_test, verbose=2)\n",
    "\n",
    "print(results)"
   ]
  },
  {
   "cell_type": "markdown",
   "id": "1a52e186",
   "metadata": {},
   "source": [
    "# 2. GlobalMaxPooling1D "
   ]
  },
  {
   "cell_type": "code",
   "execution_count": 44,
   "id": "5ad5b9b8",
   "metadata": {},
   "outputs": [
    {
     "name": "stdout",
     "output_type": "stream",
     "text": [
      "Epoch 1/10\n",
      "2128/2128 [==============================] - 8s 3ms/step - loss: 0.5471 - accuracy: 0.7119 - val_loss: 0.4604 - val_accuracy: 0.7819\n",
      "Epoch 2/10\n",
      "2128/2128 [==============================] - 7s 3ms/step - loss: 0.4222 - accuracy: 0.8056 - val_loss: 0.4183 - val_accuracy: 0.8042\n",
      "Epoch 3/10\n",
      "2128/2128 [==============================] - 7s 3ms/step - loss: 0.3751 - accuracy: 0.8335 - val_loss: 0.3914 - val_accuracy: 0.8228\n",
      "Epoch 4/10\n",
      "2128/2128 [==============================] - 7s 3ms/step - loss: 0.3448 - accuracy: 0.8498 - val_loss: 0.3834 - val_accuracy: 0.8264\n",
      "Epoch 5/10\n",
      "2128/2128 [==============================] - 7s 3ms/step - loss: 0.3183 - accuracy: 0.8639 - val_loss: 0.3933 - val_accuracy: 0.8265\n",
      "Epoch 6/10\n",
      "2128/2128 [==============================] - 7s 3ms/step - loss: 0.2962 - accuracy: 0.8756 - val_loss: 0.3793 - val_accuracy: 0.8355\n",
      "Epoch 7/10\n",
      "2128/2128 [==============================] - 7s 3ms/step - loss: 0.2759 - accuracy: 0.8862 - val_loss: 0.3891 - val_accuracy: 0.8340\n",
      "Epoch 8/10\n",
      "2128/2128 [==============================] - 7s 3ms/step - loss: 0.2559 - accuracy: 0.8962 - val_loss: 0.4004 - val_accuracy: 0.8316\n",
      "Epoch 9/10\n",
      "2128/2128 [==============================] - 7s 3ms/step - loss: 0.2389 - accuracy: 0.9041 - val_loss: 0.4037 - val_accuracy: 0.8346\n",
      "Epoch 10/10\n",
      "2128/2128 [==============================] - 7s 3ms/step - loss: 0.2211 - accuracy: 0.9132 - val_loss: 0.4249 - val_accuracy: 0.8329\n"
     ]
    }
   ],
   "source": [
    "model_gmp = keras.Sequential()\n",
    "\n",
    "model_gmp.add(keras.layers.Embedding(vocab_size, word_vector_dim, embeddings_initializer=Constant(embedding_matrix),\n",
    "                                 input_length=maxlen, trainable=True))\n",
    "model_gmp.add(keras.layers.GlobalMaxPooling1D())\n",
    "model_gmp.add(keras.layers.Dense(8, activation='relu'))\n",
    "model_gmp.add(keras.layers.Dense(1, activation='sigmoid'))  # 최종 출력은 긍정/부정을 나타내는 1dim\n",
    "\n",
    "model_gmp.compile(optimizer='Adam', loss='binary_crossentropy', metrics=['accuracy'])\n",
    "epochs_gmp=10\n",
    "history_gmp = model_gmp.fit(partial_x_train,\n",
    "                    partial_y_train,\n",
    "                    epochs=epochs_gmp,\n",
    "                    batch_size=64,\n",
    "                    validation_data=(x_val, y_val),\n",
    "                    verbose=1)"
   ]
  },
  {
   "cell_type": "code",
   "execution_count": 45,
   "id": "205419d7",
   "metadata": {},
   "outputs": [
    {
     "name": "stdout",
     "output_type": "stream",
     "text": [
      "1537/1537 - 2s - loss: 0.4299 - accuracy: 0.8259\n",
      "[0.42992618680000305, 0.8258844017982483]\n"
     ]
    }
   ],
   "source": [
    "results3 = model_gmp.evaluate(x_test, y_test, verbose=2)\n",
    "\n",
    "print(results3)"
   ]
  },
  {
   "cell_type": "markdown",
   "id": "d77715ed",
   "metadata": {},
   "source": [
    "# 3. LSTM"
   ]
  },
  {
   "cell_type": "code",
   "execution_count": 46,
   "id": "c6c065ba",
   "metadata": {},
   "outputs": [
    {
     "name": "stdout",
     "output_type": "stream",
     "text": [
      "Epoch 1/5\n",
      "1064/1064 [==============================] - 8s 6ms/step - loss: 0.5459 - accuracy: 0.6745 - val_loss: 0.3738 - val_accuracy: 0.8361\n",
      "Epoch 2/5\n",
      "1064/1064 [==============================] - 6s 5ms/step - loss: 0.3406 - accuracy: 0.8540 - val_loss: 0.3363 - val_accuracy: 0.8554\n",
      "Epoch 3/5\n",
      "1064/1064 [==============================] - 6s 5ms/step - loss: 0.3043 - accuracy: 0.8719 - val_loss: 0.3336 - val_accuracy: 0.8540\n",
      "Epoch 4/5\n",
      "1064/1064 [==============================] - 6s 5ms/step - loss: 0.2817 - accuracy: 0.8826 - val_loss: 0.3348 - val_accuracy: 0.8586\n",
      "Epoch 5/5\n",
      "1064/1064 [==============================] - 6s 6ms/step - loss: 0.2622 - accuracy: 0.8916 - val_loss: 0.3381 - val_accuracy: 0.8561\n"
     ]
    }
   ],
   "source": [
    "model_lstm = keras.Sequential()\n",
    "\n",
    "model_lstm.add(keras.layers.Embedding(vocab_size, word_vector_dim, embeddings_initializer=Constant(embedding_matrix), \n",
    "                                  input_length=maxlen, trainable=True)) # trainable을 True로 주면 Fine-tuning\n",
    "model_lstm.add(keras.layers.LSTM(8))          \n",
    "model_lstm.add(keras.layers.Dense(4, activation='relu'))\n",
    "model_lstm.add(keras.layers.Dense(1, activation='sigmoid'))\n",
    "\n",
    "model_lstm.compile(optimizer='Adam', loss='binary_crossentropy', metrics=['accuracy'])\n",
    "epochs_lstm=5\n",
    "history_lstm = model_lstm.fit(partial_x_train,\n",
    "                    partial_y_train,\n",
    "                    epochs=epochs_lstm,\n",
    "                    batch_size=128,\n",
    "                    validation_data=(x_val, y_val),\n",
    "                    verbose=1)"
   ]
  },
  {
   "cell_type": "code",
   "execution_count": 47,
   "id": "f43dca6c",
   "metadata": {},
   "outputs": [
    {
     "name": "stdout",
     "output_type": "stream",
     "text": [
      "1537/1537 - 3s - loss: 0.3488 - accuracy: 0.8521\n",
      "[0.34881654381752014, 0.8521268367767334]\n"
     ]
    }
   ],
   "source": [
    "results = model_lstm.evaluate(x_test, y_test, verbose=2)\n",
    "\n",
    "print(results)"
   ]
  },
  {
   "cell_type": "markdown",
   "id": "78ed04da",
   "metadata": {},
   "source": [
    "# 루브릭\n",
    "\n",
    "|평가문항|상세기준|\n",
    "|:---:|:---:|\n",
    "|1. 다양한 방법으로 Text Classification 태스크를 성공적으로 구현하였다.|3가지 이상의 모델이 성공적으로 시도됨|\n",
    "|2. gensim을 활용하여 자체학습된 혹은 사전학습된 임베딩 레이어를 분석하였다.|gensim의 유사단어 찾기를 활용하여 자체학습한 임베딩과 사전학습 임베딩을 적절히 분석함|\n",
    "|3. 한국어 Word2Vec을 활용하여 가시적인 성능향상을 달성했다.|네이버 영화리뷰 데이터 감성분석 정확도를 85% 이상 달성함|\n",
    "\n",
    "# 결과\n",
    "\n",
    "|모델|임베딩 전|임베딩 후|\n",
    "|----|--|--|\n",
    "|1-D CNN|84.70%|85.18%|\n",
    "|GlobalMaxpooling|76.58%|82.59%|\n",
    "|LSTM|85.04%|85.21%|\n",
    "\n",
    "1. 기초모델로 학습해도 높은 정확도가 나왔습니다\n",
    "2. GlobalMaxPooling 이 낮은 걸로 보아 문자열의 관계에 초점을 맞춘 모델이 성능이 우수함을 보았습니다.\n",
    "3. 한국어 Word2Vec을 활용하여 감정 분석의 정확도가 모두 높아져서 데이터 학습량의 필요성을 깨닫고 전이학습이 유리함을 확인하였습니다"
   ]
  },
  {
   "cell_type": "code",
   "execution_count": null,
   "id": "1ccfa05b",
   "metadata": {},
   "outputs": [],
   "source": []
  }
 ],
 "metadata": {
  "kernelspec": {
   "display_name": "Python 3 (ipykernel)",
   "language": "python",
   "name": "python3"
  },
  "language_info": {
   "codemirror_mode": {
    "name": "ipython",
    "version": 3
   },
   "file_extension": ".py",
   "mimetype": "text/x-python",
   "name": "python",
   "nbconvert_exporter": "python",
   "pygments_lexer": "ipython3",
   "version": "3.9.7"
  }
 },
 "nbformat": 4,
 "nbformat_minor": 5
}
