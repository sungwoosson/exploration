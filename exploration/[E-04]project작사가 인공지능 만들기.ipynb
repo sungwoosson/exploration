{
 "cells": [
  {
   "cell_type": "markdown",
   "id": "7657b77a",
   "metadata": {},
   "source": [
    "# 4-7. 프로젝트: 멋진 작사가 만들기\n",
    "\n",
    "## Step 1. 데이터 다운로드\n",
    "\n",
    "## Step 2. 데이터 읽어오기"
   ]
  },
  {
   "cell_type": "code",
   "execution_count": 1,
   "id": "8a7aceb8",
   "metadata": {},
   "outputs": [
    {
     "name": "stdout",
     "output_type": "stream",
     "text": [
      "데이터 크기: 187088\n",
      "Examples:\n",
      " [\"Now I've heard there was a secret chord\", 'That David played, and it pleased the Lord', \"But you don't really care for music, do you?\", 'It goes like this', 'The fourth, the fifth', 'The minor fall, the major lift', 'The baffled king composing Hallelujah Hallelujah', 'Hallelujah', 'Hallelujah']\n"
     ]
    }
   ],
   "source": [
    "import glob\n",
    "import os\n",
    "import re\n",
    "import numpy as np\n",
    "import tensorflow as tf\n",
    "\n",
    "txt_file_path = os.getenv('HOME')+'/aiffel/lyricist/data/lyrics/*'\n",
    "\n",
    "txt_list = glob.glob(txt_file_path)\n",
    "\n",
    "raw_corpus = []\n",
    "\n",
    "\n",
    "# 여러개의 txt 파일을 모두 읽어서 raw_corpus 에 담습니다.\n",
    "for txt_file in txt_list:\n",
    "    with open(txt_file, \"r\") as f:\n",
    "        raw = f.read().splitlines()\n",
    "        raw_corpus.extend(raw)\n",
    "print(\"데이터 크기:\", len(raw_corpus))\n",
    "print(\"Examples:\\n\", raw_corpus[:9])"
   ]
  },
  {
   "cell_type": "markdown",
   "id": "8a71f74c",
   "metadata": {},
   "source": [
    "## Step 3. 데이터 정제"
   ]
  },
  {
   "cell_type": "code",
   "execution_count": 2,
   "id": "146d7786",
   "metadata": {},
   "outputs": [
    {
     "name": "stdout",
     "output_type": "stream",
     "text": [
      "0 Now I've heard there was a secret chord\n",
      "1 That David played, and it pleased the Lord\n",
      "2 But you don't really care for music, do you?\n",
      "3 It goes like this\n",
      "4 The fourth, the fifth\n",
      "5 The minor fall, the major lift\n",
      "6 The baffled king composing Hallelujah Hallelujah\n",
      "7 Hallelujah\n",
      "8 Hallelujah\n"
     ]
    }
   ],
   "source": [
    "for idx, sentence in enumerate(raw_corpus[0:9]):\n",
    "    if len(sentence) == 0: continue   # 길이가 0인 문장은 건너뜁니다.\n",
    "    if sentence[-1] == \":\": continue  # 문장의 끝이 : 인 문장은 건너뜁니다. 여기서는 생략해도 됨\n",
    "\n",
    "    if idx > 9: break   # 일단 문장 10개만 확인해 볼 겁니다.\n",
    "        \n",
    "    print(idx, sentence)"
   ]
  },
  {
   "cell_type": "code",
   "execution_count": 3,
   "id": "b98a925f",
   "metadata": {},
   "outputs": [],
   "source": [
    "# 전처리를 위해 정규표현식(Regex)\n",
    "\n",
    "# 입력된 문장을\n",
    "#     1. 소문자로 바꾸고, 양쪽 공백을 지웁니다\n",
    "#     2. 특수문자 양쪽에 공백을 넣고\n",
    "#     3. 여러개의 공백은 하나의 공백으로 바꿉니다\n",
    "#     4. a-zA-Z?.!,¿가 아닌 모든 문자를 하나의 공백으로 바꿉니다\n",
    "#     5. 다시 양쪽 공백을 지웁니다\n",
    "#     6. 문장 시작에는 <start>, 끝에는 <end>를 추가합니다\n",
    "# 이 순서로 처리해주면 문제가 되는 상황을 방지할 수 있겠네요!\n",
    "def preprocess_sentence(sentence):\n",
    "    sentence = sentence.lower().strip() # 1\n",
    "    sentence = re.sub(r\"([?.!,¿])\", r\" \\1 \", sentence) # 2\n",
    "    sentence = re.sub(r'[\" \"]+', \" \", sentence) # 3\n",
    "    sentence = re.sub(r\"[^a-zA-Z?.!,¿]+\", \" \", sentence) # 4\n",
    "    sentence = sentence.strip() # 5\n",
    "    sentence = '<start> ' + sentence + ' <end>' # 6\n",
    "    return sentence"
   ]
  },
  {
   "cell_type": "markdown",
   "id": "cb7a2d9d",
   "metadata": {},
   "source": [
    "## 토큰화 했을 때 토큰의 개수가 15개를 넘어가는 문장을 학습 데이터에서 제외하기\n",
    "\n",
    "+ 토큰의 개수가 4개 이상 15개 이하 인 것만 남김( 단어수가 2개 이상 or 13개 이하인것)"
   ]
  },
  {
   "cell_type": "code",
   "execution_count": 4,
   "id": "2cc527ce",
   "metadata": {
    "scrolled": true
   },
   "outputs": [
    {
     "name": "stdout",
     "output_type": "stream",
     "text": [
      "158061\n"
     ]
    },
    {
     "data": {
      "text/plain": [
       "['<start> now i ve heard there was a secret chord <end>',\n",
       " '<start> that david played , and it pleased the lord <end>',\n",
       " '<start> but you don t really care for music , do you ? <end>',\n",
       " '<start> it goes like this <end>',\n",
       " '<start> the fourth , the fifth <end>',\n",
       " '<start> the minor fall , the major lift <end>',\n",
       " '<start> the baffled king composing hallelujah hallelujah <end>',\n",
       " '<start> hallelujah your faith was strong but you needed proof <end>',\n",
       " '<start> you saw her bathing on the roof <end>',\n",
       " '<start> her beauty and the moonlight overthrew her <end>']"
      ]
     },
     "execution_count": 4,
     "metadata": {},
     "output_type": "execute_result"
    }
   ],
   "source": [
    "# 여기에 정제된 문장을 모을겁니다 소스문장\n",
    "corpus = []\n",
    "\n",
    "for sentence in raw_corpus:\n",
    "    # 우리가 원하지 않는 문장은 건너뜁니다\n",
    "    if len(sentence) == 0: continue\n",
    "    \n",
    "    \n",
    "    # 정제를 하고 담아주세요\n",
    "    preprocessed_sentence = preprocess_sentence(sentence)\n",
    "    \n",
    "    # 토큰 4개 이상 15개 이하 인 문장 -> [4:15]\n",
    "    if preprocessed_sentence.count(' ')+1 < 4  : continue\n",
    "    if preprocessed_sentence.count(' ')+1 > 16 : continue\n",
    "        \n",
    "    corpus.append(preprocessed_sentence)\n",
    "        \n",
    "# 정제된 결과를 10개만 확인해보죠\n",
    "print(len(corpus))\n",
    "\n",
    "corpus[:10]\n"
   ]
  },
  {
   "cell_type": "code",
   "execution_count": 5,
   "id": "2a39fc45",
   "metadata": {
    "scrolled": false
   },
   "outputs": [
    {
     "name": "stdout",
     "output_type": "stream",
     "text": [
      "[[   2   49    4 ...    0    0    0]\n",
      " [   2   15 2868 ...    0    0    0]\n",
      " [   2   32    7 ...    3    0    0]\n",
      " ...\n",
      " [   2    4  115 ...    0    0    0]\n",
      " [   2  260  189 ...    3    0    0]\n",
      " [   2    7   34 ...    0    0    0]] <keras_preprocessing.text.Tokenizer object at 0x7fc9e08e2a60>\n"
     ]
    }
   ],
   "source": [
    "# 토큰화 할 때 텐서플로우의 Tokenizer와 pad_sequences를 사용합니다\n",
    "# 더 잘 알기 위해 아래 문서들을 참고하면 좋습니다\n",
    "# https://www.tensorflow.org/api_docs/python/tf/keras/preprocessing/text/Tokenizer\n",
    "# https://www.tensorflow.org/api_docs/python/tf/keras/preprocessing/sequence/pad_sequences\n",
    "def tokenize(corpus):\n",
    "    # 7000단어를 기억할 수 있는 tokenizer를 만들겁니다\n",
    "    # 우리는 이미 문장을 정제했으니 filters가 필요없어요\n",
    "    # 7000단어에 포함되지 못한 단어는 '<unk>'로 바꿀거에요\n",
    "    tokenizer = tf.keras.preprocessing.text.Tokenizer(\n",
    "        num_words=12000, \n",
    "        filters=' ',\n",
    "        oov_token=\"<unk>\"\n",
    "    )\n",
    "    # corpus를 이용해 tokenizer 내부의 단어장을 완성합니다\n",
    "    tokenizer.fit_on_texts(corpus)\n",
    "    \n",
    "    # 준비한 tokenizer를 이용해 corpus를 Tensor로 변환합니다\n",
    "    tensor = tokenizer.texts_to_sequences(corpus)   \n",
    "    \n",
    "    # 입력 데이터의 시퀀스 길이를 일정하게 맞춰줍니다\n",
    "    # 만약 시퀀스가 짧다면 문장 뒤에 패딩을 붙여 길이를 맞춰줍니다.\n",
    "    # 문장 앞에 패딩을 붙여 길이를 맞추고 싶다면 padding='pre'를 사용합니다\n",
    "    tensor = tf.keras.preprocessing.sequence.pad_sequences(tensor, padding='post')  \n",
    "    \n",
    "    print(tensor,tokenizer)\n",
    "    return tensor, tokenizer\n",
    "\n",
    "tensor, tokenizer = tokenize(corpus)"
   ]
  },
  {
   "cell_type": "code",
   "execution_count": 6,
   "id": "6aa54167",
   "metadata": {},
   "outputs": [
    {
     "name": "stdout",
     "output_type": "stream",
     "text": [
      "[[   2   49    4 ...    0    0    0]\n",
      " [   2   15 2868 ...    0    0    0]\n",
      " [   2   32    7 ...    3    0    0]\n",
      " ...\n",
      " [   2    4  115 ...    0    0    0]\n",
      " [   2  260  189 ...    3    0    0]\n",
      " [   2    7   34 ...    0    0    0]] <keras_preprocessing.text.Tokenizer object at 0x7fc9e0903910>\n"
     ]
    },
    {
     "data": {
      "text/plain": [
       "(158061, 16)"
      ]
     },
     "execution_count": 6,
     "metadata": {},
     "output_type": "execute_result"
    }
   ],
   "source": [
    "tensor, tokenizer = tokenize(corpus)\n",
    "\n",
    "tensor.shape"
   ]
  },
  {
   "cell_type": "code",
   "execution_count": 7,
   "id": "4d9f9cd0",
   "metadata": {
    "scrolled": true
   },
   "outputs": [
    {
     "name": "stdout",
     "output_type": "stream",
     "text": [
      "1 : <unk>\n",
      "2 : <start>\n",
      "3 : <end>\n",
      "4 : i\n",
      "5 : ,\n",
      "6 : the\n",
      "7 : you\n",
      "8 : and\n",
      "9 : a\n",
      "10 : to\n"
     ]
    }
   ],
   "source": [
    "# tokenizer에 구축된 단어 사전의 인덱스 확인\n",
    "\n",
    "for idx in tokenizer.index_word:\n",
    "    print(idx, \":\", tokenizer.index_word[idx])\n",
    "\n",
    "    if idx >= 10: break"
   ]
  },
  {
   "cell_type": "markdown",
   "id": "3b71244f",
   "metadata": {},
   "source": [
    "# Step 4. 평가 데이터셋 분리\n",
    "\n",
    "validation 검증을 위해 나눈다"
   ]
  },
  {
   "cell_type": "code",
   "execution_count": 8,
   "id": "c457b022",
   "metadata": {
    "scrolled": true
   },
   "outputs": [
    {
     "name": "stdout",
     "output_type": "stream",
     "text": [
      "Source Train: (126448, 15)\n",
      "Target Train: (126448, 15)\n",
      "Source Val: (31613, 15)\n",
      "Target Val: (31613, 15)\n"
     ]
    }
   ],
   "source": [
    "# tensor에서 마지막 토큰을 잘라내서 소스 문장을 생성합니다\n",
    "# 마지막 토큰은 <end>가 아니라 <pad>일 가능성이 높습니다.\n",
    "src_input = tensor[:, :-1]  \n",
    "# tensor에서 <start>를 잘라내서 타겟 문장을 생성합니다.\n",
    "tgt_input = tensor[:, 1:]  \n",
    "\n",
    "from sklearn.model_selection import train_test_split\n",
    "enc_train, enc_val, dec_train, dec_val = train_test_split(src_input, tgt_input, test_size=0.2, random_state=42)\n",
    "print(\"Source Train:\", enc_train.shape)\n",
    "print(\"Target Train:\", dec_train.shape)\n",
    "print(\"Source Val:\", enc_val.shape)\n",
    "print(\"Target Val:\", dec_val.shape)\n"
   ]
  },
  {
   "cell_type": "markdown",
   "id": "c0d7a59a",
   "metadata": {},
   "source": [
    "## corpus 텐서를 tf.data.Dataset객체로 변환\n",
    "주의 : enc_train, dec_train 값을 넣어줘야 올바른 validation을 알 수 있다"
   ]
  },
  {
   "cell_type": "code",
   "execution_count": 9,
   "id": "f6a63cc7",
   "metadata": {},
   "outputs": [
    {
     "data": {
      "text/plain": [
       "<BatchDataset shapes: ((256, 15), (256, 15)), types: (tf.int32, tf.int32)>"
      ]
     },
     "execution_count": 9,
     "metadata": {},
     "output_type": "execute_result"
    }
   ],
   "source": [
    "\n",
    "BUFFER_SIZE = len(enc_train)\n",
    "BATCH_SIZE = 256\n",
    "steps_per_epoch = len(enc_train) // BATCH_SIZE\n",
    "\n",
    " # tokenizer가 구축한 단어사전 내 14000, 여기 포함되지 않은 0:<pad>를 포함하여 7001개\n",
    "VOCAB_SIZE = tokenizer.num_words + 1   \n",
    "\n",
    "# 준비한 데이터 소스로부터 데이터셋을 만듭니다\n",
    "# 데이터셋에 대해서는 아래 문서를 참고하세요\n",
    "# 자세히 알아둘수록 도움이 많이 되는 중요한 문서입니다\n",
    "# https://www.tensorflow.org/api_docs/python/tf/data/Dataset\n",
    "dataset = tf.data.Dataset.from_tensor_slices((enc_train, dec_train))\n",
    "dataset = dataset.shuffle(BUFFER_SIZE)\n",
    "dataset = dataset.batch(BATCH_SIZE, drop_remainder=True)\n",
    "dataset"
   ]
  },
  {
   "cell_type": "markdown",
   "id": "7348ed16",
   "metadata": {},
   "source": [
    "## Step 5. 인공지능 만들기\n",
    "\n",
    "데이터 \n",
    "+ Source Train: (126448, 15)\n",
    "+ Target Train: (126448, 15)\n",
    "+ Source Val: (31613, 15)\n",
    "+ Target Val: (31613, 15)\n",
    "\n",
    "RNN 레이어 2개\n",
    "+ embedding_size = 256\n",
    "+ hidden_size = 1024\n",
    "+ n_train_epoch = 10"
   ]
  },
  {
   "cell_type": "code",
   "execution_count": 10,
   "id": "a7d6890d",
   "metadata": {},
   "outputs": [],
   "source": [
    "class TextGenerator(tf.keras.Model):\n",
    "    def __init__(self, vocab_size, embedding_size, hidden_size):\n",
    "        super().__init__()\n",
    "        \n",
    "        self.embedding = tf.keras.layers.Embedding(vocab_size, embedding_size)\n",
    "        self.rnn_1 = tf.keras.layers.LSTM(hidden_size, return_sequences=True)\n",
    "        self.rnn_2 = tf.keras.layers.LSTM(hidden_size, return_sequences=True)\n",
    "        self.linear = tf.keras.layers.Dense(vocab_size)\n",
    "        \n",
    "    def call(self, x):\n",
    "        out = self.embedding(x)\n",
    "        out = self.rnn_1(out)\n",
    "        out = self.rnn_2(out)\n",
    "        out = self.linear(out)\n",
    "        \n",
    "        return out"
   ]
  },
  {
   "cell_type": "markdown",
   "id": "1a5eb42d",
   "metadata": {},
   "source": [
    "하이퍼 파라미터 지정과 모델 생성\n",
    "+ embedding_size를 256으로 올려 고려하는 feature의 수를 늘림\n",
    "+ hidden_size를 2048로 올려 각 레이어의 노드 수를 늘림"
   ]
  },
  {
   "cell_type": "code",
   "execution_count": 12,
   "id": "06d3eb3f",
   "metadata": {},
   "outputs": [
    {
     "name": "stdout",
     "output_type": "stream",
     "text": [
      "Shape of model output : (256, 15, 12001)\n",
      "\n",
      "Model: \"text_generator_1\"\n",
      "_________________________________________________________________\n",
      "Layer (type)                 Output Shape              Param #   \n",
      "=================================================================\n",
      "embedding_1 (Embedding)      multiple                  3072256   \n",
      "_________________________________________________________________\n",
      "lstm_2 (LSTM)                multiple                  5246976   \n",
      "_________________________________________________________________\n",
      "lstm_3 (LSTM)                multiple                  8392704   \n",
      "_________________________________________________________________\n",
      "dense_1 (Dense)              multiple                  12301025  \n",
      "=================================================================\n",
      "Total params: 29,012,961\n",
      "Trainable params: 29,012,961\n",
      "Non-trainable params: 0\n",
      "_________________________________________________________________\n"
     ]
    }
   ],
   "source": [
    "embedding_size = 256\n",
    "hidden_size = 1024\n",
    "model_RNN = TextGenerator(tokenizer.num_words + 1, embedding_size , hidden_size)\n",
    "\n",
    "for src_sample, tgt_sample in dataset.take(1): break\n",
    "    \n",
    "output = model_RNN(src_sample)\n",
    "\n",
    "print(f'Shape of model output : {output.shape}\\n')\n",
    "model_RNN.summary()"
   ]
  },
  {
   "cell_type": "code",
   "execution_count": 13,
   "id": "93adef53",
   "metadata": {
    "scrolled": true
   },
   "outputs": [
    {
     "name": "stdout",
     "output_type": "stream",
     "text": [
      "WARNING:tensorflow:From /tmp/ipykernel_31/337460670.py:1: is_gpu_available (from tensorflow.python.framework.test_util) is deprecated and will be removed in a future version.\n",
      "Instructions for updating:\n",
      "Use `tf.config.list_physical_devices('GPU')` instead.\n"
     ]
    },
    {
     "data": {
      "text/plain": [
       "True"
      ]
     },
     "execution_count": 13,
     "metadata": {},
     "output_type": "execute_result"
    }
   ],
   "source": [
    "tf.test.is_gpu_available()"
   ]
  },
  {
   "cell_type": "code",
   "execution_count": 14,
   "id": "d6cce9dc",
   "metadata": {},
   "outputs": [],
   "source": [
    "optimizer = tf.keras.optimizers.Adam()\n",
    "# optimizer = tf.keras.optimizers.SGD()\n",
    "loss = tf.keras.losses.SparseCategoricalCrossentropy(\n",
    "    from_logits=True, reduction='none')"
   ]
  },
  {
   "cell_type": "markdown",
   "id": "27ce444d",
   "metadata": {},
   "source": [
    "## 모델 학습\n",
    "\n",
    "### 모델 저장"
   ]
  },
  {
   "cell_type": "code",
   "execution_count": 15,
   "id": "afaf178b",
   "metadata": {},
   "outputs": [],
   "source": [
    "model_RNN.compile(loss=loss, optimizer=optimizer)"
   ]
  },
  {
   "cell_type": "code",
   "execution_count": 16,
   "id": "de0b76ab",
   "metadata": {},
   "outputs": [],
   "source": [
    "checkpoint_path = \"trainingRNN/RNN.ckpt\"             # 저장할 가중치의 확장자 및 파일 이름\n",
    "checkpoint_dir = os.path.dirname(checkpoint_path)  # 저장할 경로\n",
    "\n",
    "RNN_callback = tf.keras.callbacks.ModelCheckpoint(filepath=checkpoint_path, # 학습 시 callback함수를 반환하여 학습\n",
    "                                                 save_weights_only=True,\n",
    "                                                 verbose=1)"
   ]
  },
  {
   "cell_type": "code",
   "execution_count": 17,
   "id": "6109ae03",
   "metadata": {
    "scrolled": false
   },
   "outputs": [
    {
     "name": "stdout",
     "output_type": "stream",
     "text": [
      "Epoch 1/10\n",
      "988/988 [==============================] - 104s 103ms/step - loss: 3.1925 - val_loss: 2.9161\n",
      "\n",
      "Epoch 00001: saving model to trainingRNN/RNN.ckpt\n",
      "Epoch 2/10\n",
      "988/988 [==============================] - 110s 112ms/step - loss: 2.7977 - val_loss: 2.7379\n",
      "\n",
      "Epoch 00002: saving model to trainingRNN/RNN.ckpt\n",
      "Epoch 3/10\n",
      "988/988 [==============================] - 110s 111ms/step - loss: 2.6196 - val_loss: 2.6287\n",
      "\n",
      "Epoch 00003: saving model to trainingRNN/RNN.ckpt\n",
      "Epoch 4/10\n",
      "988/988 [==============================] - 110s 111ms/step - loss: 2.4756 - val_loss: 2.5526\n",
      "\n",
      "Epoch 00004: saving model to trainingRNN/RNN.ckpt\n",
      "Epoch 5/10\n",
      "988/988 [==============================] - 110s 111ms/step - loss: 2.3486 - val_loss: 2.4951\n",
      "\n",
      "Epoch 00005: saving model to trainingRNN/RNN.ckpt\n",
      "Epoch 6/10\n",
      "988/988 [==============================] - 110s 111ms/step - loss: 2.2333 - val_loss: 2.4503\n",
      "\n",
      "Epoch 00006: saving model to trainingRNN/RNN.ckpt\n",
      "Epoch 7/10\n",
      "988/988 [==============================] - 110s 111ms/step - loss: 2.1272 - val_loss: 2.4154\n",
      "\n",
      "Epoch 00007: saving model to trainingRNN/RNN.ckpt\n",
      "Epoch 8/10\n",
      "988/988 [==============================] - 110s 112ms/step - loss: 2.0284 - val_loss: 2.3906\n",
      "\n",
      "Epoch 00008: saving model to trainingRNN/RNN.ckpt\n",
      "Epoch 9/10\n",
      "988/988 [==============================] - 110s 112ms/step - loss: 1.9371 - val_loss: 2.3717\n",
      "\n",
      "Epoch 00009: saving model to trainingRNN/RNN.ckpt\n",
      "Epoch 10/10\n",
      "988/988 [==============================] - 110s 111ms/step - loss: 1.8515 - val_loss: 2.3537\n",
      "\n",
      "Epoch 00010: saving model to trainingRNN/RNN.ckpt\n"
     ]
    }
   ],
   "source": [
    "history_RNN = model_RNN.fit(x = enc_train, y = dec_train, epochs=10, batch_size=128,\n",
    "          callbacks=[RNN_callback], validation_data = (enc_val, dec_val) )"
   ]
  },
  {
   "cell_type": "markdown",
   "id": "bd16083f",
   "metadata": {},
   "source": [
    "# 다른 모델 선정\n",
    "다른 사람이 한 것을 참고했습니다\n",
    "\n",
    "Bi LSTM 레이어 2개\n",
    "\n",
    "+ embedding_size = 256\n",
    "+ hidden_size = 1024\n",
    "+ n_train_epoch = 10"
   ]
  },
  {
   "cell_type": "code",
   "execution_count": 18,
   "id": "6aebb45b",
   "metadata": {},
   "outputs": [],
   "source": [
    "from tensorflow.keras.layers import Bidirectional, LSTM\n",
    "\n",
    "class TextGenerator(tf.keras.Model):\n",
    "    def __init__(self, vocab_size, embedding_size, hidden_size):\n",
    "        super().__init__()\n",
    "        \n",
    "        self.embedding = tf.keras.layers.Embedding(vocab_size, embedding_size)    # 단어사전에 의해 변환된 숫자를 벡터로 변환\n",
    "        self.rnn_1 = Bidirectional(LSTM(hidden_size, return_sequences=True))     # Bi-LSMT Layer \n",
    "        self.rnn_2 = Bidirectional(LSTM(hidden_size, return_sequences=True))     # Bi-LSMT Layer\n",
    "        self.linear = tf.keras.layers.Dense(vocab_size)                           # 출력 및 단어 예측을 위한 Fully-Connected Layer\n",
    "    \n",
    "    def call(self, x):\n",
    "        out = self.embedding(x)\n",
    "        out = self.rnn_1(out)\n",
    "        out = self.rnn_2(out)\n",
    "        out = self.linear(out)\n",
    "        \n",
    "        return out"
   ]
  },
  {
   "cell_type": "code",
   "execution_count": 19,
   "id": "5fd0476c",
   "metadata": {},
   "outputs": [
    {
     "name": "stdout",
     "output_type": "stream",
     "text": [
      "Shape of model output : (256, 15, 12001)\n",
      "\n",
      "Model: \"text_generator_2\"\n",
      "_________________________________________________________________\n",
      "Layer (type)                 Output Shape              Param #   \n",
      "=================================================================\n",
      "embedding_2 (Embedding)      multiple                  3072256   \n",
      "_________________________________________________________________\n",
      "bidirectional (Bidirectional multiple                  10493952  \n",
      "_________________________________________________________________\n",
      "bidirectional_1 (Bidirection multiple                  25174016  \n",
      "_________________________________________________________________\n",
      "dense_2 (Dense)              multiple                  24590049  \n",
      "=================================================================\n",
      "Total params: 63,330,273\n",
      "Trainable params: 63,330,273\n",
      "Non-trainable params: 0\n",
      "_________________________________________________________________\n"
     ]
    }
   ],
   "source": [
    "embedding_size = 256\n",
    "hidden_size = 1024\n",
    "model_LSTM = TextGenerator(tokenizer.num_words + 1, embedding_size , hidden_size)\n",
    "\n",
    "for src_sample, tgt_sample in dataset.take(1): break\n",
    "    \n",
    "output = model_LSTM(src_sample)\n",
    "\n",
    "\n",
    "print(f'Shape of model output : {output.shape}\\n')\n",
    "model_LSTM.summary()"
   ]
  },
  {
   "cell_type": "code",
   "execution_count": 20,
   "id": "4fd51e33",
   "metadata": {},
   "outputs": [],
   "source": [
    "optimizer = tf.keras.optimizers.Adam()                     # Optimizer로 Adam 사용\n",
    "loss = tf.keras.losses.SparseCategoricalCrossentropy(      # Loss함수로 CrossEntropy함수 사용\n",
    "    from_logits=True, reduction='none')                   \n",
    "\n",
    "model_LSTM.compile(loss=loss, optimizer=optimizer, metrics=['accuracy'])\n"
   ]
  },
  {
   "cell_type": "markdown",
   "id": "5015c95f",
   "metadata": {},
   "source": [
    "## 모델 학습\n",
    "모델의 학습시간이 매우 길어서 다양한 문제가 발생할 것으로 판단 됨.\n",
    "\n",
    "1.모델이 학습을 하던 중 외부요인에 의해 학습이 중단될 경우\n",
    "> 학습 중간에 현재 state의 가중치값을 저장하여 중간이 되어도 중간부터 진행할 수 있도록 조치\n",
    "\n",
    "2.하이퍼파라미터를 수정하며 다양한 실험을 한 후에 결과값을 비교할 필요가 있는 경우\n",
    ">모델의 학습 결과를 pickle 자료형으로 저장하여 이후에 분석을 할 때 불러와 비교분석 실시\n",
    "\n",
    "모델 저장\n",
    "\n"
   ]
  },
  {
   "cell_type": "code",
   "execution_count": 21,
   "id": "778ccce8",
   "metadata": {},
   "outputs": [],
   "source": [
    "checkpoint_path = \"training_LSTM/LSTM.ckpt\"             # 저장할 가중치의 확장자 및 파일 이름\n",
    "checkpoint_dir = os.path.dirname(checkpoint_path)  # 저장할 경로\n",
    "\n",
    "lstm_callback = tf.keras.callbacks.ModelCheckpoint(filepath=checkpoint_path, # 학습 시 callback함수를 반환하여 학습\n",
    "                                                 save_weights_only=True,\n",
    "                                                 verbose=1)"
   ]
  },
  {
   "cell_type": "code",
   "execution_count": 23,
   "id": "aa188fbc",
   "metadata": {
    "scrolled": false
   },
   "outputs": [
    {
     "name": "stdout",
     "output_type": "stream",
     "text": [
      "Epoch 1/10\n",
      "988/988 [==============================] - 253s 252ms/step - loss: 1.2033 - accuracy: 0.8195 - val_loss: 0.3139 - val_accuracy: 0.9508\n",
      "\n",
      "Epoch 00001: saving model to training_LSTM/LSTM.ckpt\n",
      "Epoch 2/10\n",
      "988/988 [==============================] - 248s 251ms/step - loss: 0.1751 - accuracy: 0.9693 - val_loss: 0.1604 - val_accuracy: 0.9738\n",
      "\n",
      "Epoch 00002: saving model to training_LSTM/LSTM.ckpt\n",
      "Epoch 3/10\n",
      "988/988 [==============================] - 248s 251ms/step - loss: 0.0466 - accuracy: 0.9905 - val_loss: 0.1191 - val_accuracy: 0.9809\n",
      "\n",
      "Epoch 00003: saving model to training_LSTM/LSTM.ckpt\n",
      "Epoch 4/10\n",
      "988/988 [==============================] - 248s 251ms/step - loss: 0.0090 - accuracy: 0.9984 - val_loss: 0.1122 - val_accuracy: 0.9820\n",
      "\n",
      "Epoch 00004: saving model to training_LSTM/LSTM.ckpt\n",
      "Epoch 5/10\n",
      "988/988 [==============================] - 248s 251ms/step - loss: 0.0102 - accuracy: 0.9979 - val_loss: 0.1195 - val_accuracy: 0.9800\n",
      "\n",
      "Epoch 00005: saving model to training_LSTM/LSTM.ckpt\n",
      "Epoch 6/10\n",
      "988/988 [==============================] - 248s 251ms/step - loss: 0.0069 - accuracy: 0.9985 - val_loss: 0.1196 - val_accuracy: 0.9802\n",
      "\n",
      "Epoch 00006: saving model to training_LSTM/LSTM.ckpt\n",
      "Epoch 7/10\n",
      "988/988 [==============================] - 248s 251ms/step - loss: 0.0072 - accuracy: 0.9984 - val_loss: 0.1094 - val_accuracy: 0.9837\n",
      "\n",
      "Epoch 00007: saving model to training_LSTM/LSTM.ckpt\n",
      "Epoch 8/10\n",
      "988/988 [==============================] - 248s 251ms/step - loss: 0.0067 - accuracy: 0.9984 - val_loss: 0.1084 - val_accuracy: 0.9841\n",
      "\n",
      "Epoch 00008: saving model to training_LSTM/LSTM.ckpt\n",
      "Epoch 9/10\n",
      "988/988 [==============================] - 249s 252ms/step - loss: 0.0025 - accuracy: 0.9994 - val_loss: 0.1047 - val_accuracy: 0.9848\n",
      "\n",
      "Epoch 00009: saving model to training_LSTM/LSTM.ckpt\n",
      "Epoch 10/10\n",
      "988/988 [==============================] - 249s 252ms/step - loss: 0.0042 - accuracy: 0.9989 - val_loss: 0.1118 - val_accuracy: 0.9833\n",
      "\n",
      "Epoch 00010: saving model to training_LSTM/LSTM.ckpt\n"
     ]
    }
   ],
   "source": [
    "# 모델 학습\n",
    "\n",
    "history_lstm = model_LSTM.fit(x = enc_train, y = dec_train, epochs=10, batch_size=128,\n",
    "                              callbacks=[lstm_callback], validation_data=(enc_val, dec_val))"
   ]
  },
  {
   "cell_type": "markdown",
   "id": "e2c73898",
   "metadata": {},
   "source": [
    "학습결과 저장 및 불러오기"
   ]
  },
  {
   "cell_type": "code",
   "execution_count": 24,
   "id": "94ccb7d5",
   "metadata": {},
   "outputs": [],
   "source": [
    "import pickle\n",
    "\n",
    "with open('RNN_training.pkl', 'wb') as f: # 학습결과 pkl 형식으로 저장(dictionary 자료형 -> pkl 자료형)\n",
    "    pickle.dump(history_RNN.history, f)\n",
    "\n",
    "with open('RNN_training.pkl', 'rb') as f: # 저장된 pkl 데이터 불러오기(pkl 자료형 -> dictionary 자료형)\n",
    "    history_RNN = pickle.load(f)"
   ]
  },
  {
   "cell_type": "code",
   "execution_count": 25,
   "id": "599f53c7",
   "metadata": {},
   "outputs": [],
   "source": [
    "with open('lstm_training2.pkl', 'wb') as f: # 학습결과 pkl 형식으로 저장(dictionary 자료형 -> pkl 자료형)\n",
    "    pickle.dump(history_lstm.history, f)\n",
    "\n",
    "with open('lstm_training2.pkl', 'rb') as f: # 저장된 pkl 데이터 불러오기(pkl 자료형 -> dictionary 자료형)\n",
    "    history_lstm2 = pickle.load(f)\n",
    "    \n",
    "# with open('bi_lstm_training.pkl', 'rb') as f: # 저장된 pkl 데이터 불러오기(pkl 자료형 -> dictionary 자료형)\n",
    "#     history_bi = pickle.load(f)"
   ]
  },
  {
   "cell_type": "markdown",
   "id": "ef40cb7c",
   "metadata": {},
   "source": [
    "## Loss value 시각화\n",
    "\n",
    "val_loss 값을 2.2 수준으로 낮추기"
   ]
  },
  {
   "cell_type": "code",
   "execution_count": 26,
   "id": "e661823b",
   "metadata": {},
   "outputs": [
    {
     "data": {
      "image/png": "[encoded data removed]",
      "text/plain": [
       "<Figure size 1080x360 with 2 Axes>"
      ]
     },
     "metadata": {
      "needs_background": "light"
     },
     "output_type": "display_data"
    }
   ],
   "source": [
    "import matplotlib.pyplot as plt\n",
    "\n",
    "plt.figure(figsize=(15,5))\n",
    "\n",
    "plt.subplot(1,2,1)\n",
    "plt.plot(history_RNN['loss'], marker='.', c='red', label='Train-set Loss')\n",
    "plt.plot(history_RNN['val_loss'], marker='.', c='blue', label='Validation-set Loss')\n",
    "plt.xlabel('Epoch')\n",
    "plt.legend()\n",
    "plt.title('RNN(Loss)')\n",
    "\n",
    "\n",
    "plt.subplot(1,2,2)\n",
    "plt.plot(history_lstm2['loss'], marker='.', c='red', label='Train-set Loss')\n",
    "plt.plot(history_lstm2['val_loss'], marker='.', c='blue', label='Validation-set Loss')\n",
    "plt.xlabel('epoch')\n",
    "plt.legend()\n",
    "plt.title('Bi-LSTM(Loss)')\n",
    "\n",
    "plt.show()"
   ]
  },
  {
   "cell_type": "markdown",
   "id": "46c56f2b",
   "metadata": {},
   "source": [
    "## 잘 만들어졌는지 평가하기"
   ]
  },
  {
   "cell_type": "code",
   "execution_count": 27,
   "id": "f2477775",
   "metadata": {},
   "outputs": [],
   "source": [
    "def generate_text(model, tokenizer, init_sentence=\"<start>\", max_len=20):\n",
    "    # 테스트를 위해서 입력받은 init_sentence도 텐서로 변환합니다\n",
    "    test_input = tokenizer.texts_to_sequences([init_sentence])\n",
    "    test_tensor = tf.convert_to_tensor(test_input, dtype=tf.int64)\n",
    "    end_token = tokenizer.word_index[\"<end>\"]\n",
    "\n",
    "    # 단어 하나씩 예측해 문장을 만듭니다\n",
    "    #    1. 입력받은 문장의 텐서를 입력합니다\n",
    "    #    2. 예측된 값 중 가장 높은 확률인 word index를 뽑아냅니다\n",
    "    #    3. 2에서 예측된 word index를 문장 뒤에 붙입니다\n",
    "    #    4. 모델이 <end>를 예측했거나, max_len에 도달했다면 문장 생성을 마칩니다\n",
    "    while True:\n",
    "        # 1\n",
    "        predict = model(test_tensor) \n",
    "        # 2\n",
    "        predict_word = tf.argmax(tf.nn.softmax(predict, axis=-1), axis=-1)[:, -1] \n",
    "        # 3 \n",
    "        test_tensor = tf.concat([test_tensor, tf.expand_dims(predict_word, axis=0)], axis=-1)\n",
    "        # 4\n",
    "        if predict_word.numpy()[0] == end_token: break\n",
    "        if test_tensor.shape[1] >= max_len: break\n",
    "\n",
    "    generated = \"\"\n",
    "    # tokenizer를 이용해 word index를 단어로 하나씩 변환합니다 \n",
    "    for word_index in test_tensor[0].numpy():\n",
    "        generated += tokenizer.index_word[word_index] + \" \"\n",
    "\n",
    "    return generated"
   ]
  },
  {
   "cell_type": "code",
   "execution_count": 28,
   "id": "c011fccb",
   "metadata": {},
   "outputs": [
    {
     "data": {
      "text/plain": [
       "<tensorflow.python.training.tracking.util.CheckpointLoadStatus at 0x7fc9f200ef40>"
      ]
     },
     "execution_count": 28,
     "metadata": {},
     "output_type": "execute_result"
    }
   ],
   "source": [
    "RNN_checkpoint = \"trainingRNN/RNN.ckpt\"               # 일반 LSTM 가중치값 저장 경로\n",
    "model_RNN.load_weights(RNN_checkpoint)         # 모델에 가중치 대입\n",
    "\n",
    "\n",
    "LSTM_checkpoint = \"training_LSTM/LSTM.ckpt\"      # BI LSTM 가중치값 저장 경로\n",
    "model_LSTM.load_weights(LSTM_checkpoint)   # 모델에 가중치 대입"
   ]
  },
  {
   "cell_type": "code",
   "execution_count": 29,
   "id": "573e33b0",
   "metadata": {
    "scrolled": true
   },
   "outputs": [
    {
     "name": "stdout",
     "output_type": "stream",
     "text": [
      "<start> that you were in the <unk> <end> \n",
      "<start> i got the cleanest meanest penis you reel me <end> \n",
      "<start> i keep waiting for it , that green light , i want it <end> \n",
      "<start> <unk> started talking bout linda <end> \n",
      "<start> <unk> right here for you to die <end> \n",
      "<start> do you wanna build a snowman ? <end> \n",
      "<start> <unk> i <unk> want to be <unk> <end> \n",
      "<start> just go to the zoo , but you re the only one <end> \n",
      "<start> why should i do ? <end> \n",
      "<start> <unk> a good day <end> \n"
     ]
    }
   ],
   "source": [
    "keywords = [\n",
    "    'That you were',\n",
    "    'I got',\n",
    "    'I keep waiting',\n",
    "    \"I've started talking\",\n",
    "    \"I'm right here for you\",\n",
    "    'Do you wanna build',\n",
    "    'Please, I don’t want to',\n",
    "    'Just go to the',\n",
    "    'Why should I',\n",
    "    \"It's a good day\"]\n",
    "for start in keywords:\n",
    "    print(generate_text(model_RNN, tokenizer, init_sentence= ' '.join([\"<start>\", start])))"
   ]
  },
  {
   "cell_type": "code",
   "execution_count": 30,
   "id": "02a2b03b",
   "metadata": {
    "scrolled": true
   },
   "outputs": [
    {
     "name": "stdout",
     "output_type": "stream",
     "text": [
      "<start> that you were <end> \n",
      "<start> i got <end> \n",
      "<start> i keep waiting <end> \n",
      "<start> <unk> started talking <end> \n",
      "<start> <unk> right here for you <end> \n",
      "<start> do you wanna build <end> \n",
      "<start> <unk> i <unk> want to <end> \n",
      "<start> just go to the <end> \n",
      "<start> why should i <end> \n",
      "<start> <unk> a good day <end> \n"
     ]
    }
   ],
   "source": [
    "keywords = [\n",
    "    'That you were',\n",
    "    'I got',\n",
    "    'I keep waiting',\n",
    "    \"I've started talking\",\n",
    "    \"I'm right here for you\",\n",
    "    'Do you wanna build',\n",
    "    'Please, I don’t want to',\n",
    "    'Just go to the',\n",
    "    'Why should I',\n",
    "    \"It's a good day\"]\n",
    "for start in keywords:\n",
    "    print(generate_text(model_LSTM, tokenizer, init_sentence= ' '.join([\"<start>\", start])))"
   ]
  },
  {
   "cell_type": "markdown",
   "id": "1a63691b",
   "metadata": {},
   "source": [
    "## 회고\n",
    "+ LSTM모델이 Loss가 더 작은 결과를 보여주었다\n",
    "+ 하지만 Loss 값이 더 좋은 모델이 실제 문장 평가에서는 좋지 않은 결과를 보여주었다.\n",
    "     - 이것에 대한 결과는 데이터 양의 문제일 수 있다."
   ]
  }
 ],
 "metadata": {
  "kernelspec": {
   "display_name": "Python 3 (ipykernel)",
   "language": "python",
   "name": "python3"
  },
  "language_info": {
   "codemirror_mode": {
    "name": "ipython",
    "version": 3
   },
   "file_extension": ".py",
   "mimetype": "text/x-python",
   "name": "python",
   "nbconvert_exporter": "python",
   "pygments_lexer": "ipython3",
   "version": "3.9.7"
  }
 },
 "nbformat": 4,
 "nbformat_minor": 5
}
